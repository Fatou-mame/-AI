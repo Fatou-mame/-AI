{
  "nbformat": 4,
  "nbformat_minor": 0,
  "metadata": {
    "colab": {
      "name": "Chatbot.ipynb",
      "provenance": [],
      "collapsed_sections": [],
      "toc_visible": true,
      "include_colab_link": true
    },
    "kernelspec": {
      "name": "python3",
      "display_name": "Python 3"
    },
    "accelerator": "GPU"
  },
  "cells": [
    {
      "cell_type": "markdown",
      "metadata": {
        "id": "view-in-github",
        "colab_type": "text"
      },
      "source": [
        "<a href=\"https://colab.research.google.com/github/Fatou-mame/IA/blob/master/Chatbot%20personnalis%C3%A9.ipynb\" target=\"_parent\"><img src=\"https://colab.research.google.com/assets/colab-badge.svg\" alt=\"Open In Colab\"/></a>"
      ]
    },
    {
      "cell_type": "markdown",
      "metadata": {
        "id": "BoeTIdqVZiKh",
        "colab_type": "text"
      },
      "source": [
        "information sur wikipedia https://en.wikipedia.org/wiki/History_of_medicine#Prehistoric_medicine"
      ]
    },
    {
      "cell_type": "markdown",
      "metadata": {
        "id": "67BtjlxSHWBL",
        "colab_type": "text"
      },
      "source": [
        "This code come from https://medium.com/analytics-vidhya/building-a-simple-chatbot-in-python-using-nltk-7c8c8215ac6e\n"
      ]
    },
    {
      "cell_type": "code",
      "metadata": {
        "id": "HLFDD6t4iTCk",
        "colab_type": "code",
        "colab": {
          "base_uri": "https://localhost:8080/",
          "height": 360
        },
        "outputId": "0a3ba151-f17e-47ab-dff8-9b32f6412225"
      },
      "source": [
        "pip install gTTS"
      ],
      "execution_count": null,
      "outputs": [
        {
          "output_type": "stream",
          "text": [
            "Collecting gTTS\n",
            "  Downloading https://files.pythonhosted.org/packages/a1/0c/4ca77eca3b739a4a08360930643f58d714e302fee0d2f8c654e67d9af8e7/gTTS-2.1.1-py3-none-any.whl\n",
            "Requirement already satisfied: requests in /usr/local/lib/python3.6/dist-packages (from gTTS) (2.23.0)\n",
            "Requirement already satisfied: click in /usr/local/lib/python3.6/dist-packages (from gTTS) (7.1.2)\n",
            "Collecting gtts-token>=1.1.3\n",
            "  Downloading https://files.pythonhosted.org/packages/e7/25/ca6e9cd3275bfc3097fe6b06cc31db6d3dfaf32e032e0f73fead9c9a03ce/gTTS-token-1.1.3.tar.gz\n",
            "Requirement already satisfied: beautifulsoup4 in /usr/local/lib/python3.6/dist-packages (from gTTS) (4.6.3)\n",
            "Requirement already satisfied: six in /usr/local/lib/python3.6/dist-packages (from gTTS) (1.12.0)\n",
            "Requirement already satisfied: certifi>=2017.4.17 in /usr/local/lib/python3.6/dist-packages (from requests->gTTS) (2020.4.5.2)\n",
            "Requirement already satisfied: idna<3,>=2.5 in /usr/local/lib/python3.6/dist-packages (from requests->gTTS) (2.9)\n",
            "Requirement already satisfied: chardet<4,>=3.0.2 in /usr/local/lib/python3.6/dist-packages (from requests->gTTS) (3.0.4)\n",
            "Requirement already satisfied: urllib3!=1.25.0,!=1.25.1,<1.26,>=1.21.1 in /usr/local/lib/python3.6/dist-packages (from requests->gTTS) (1.24.3)\n",
            "Building wheels for collected packages: gtts-token\n",
            "  Building wheel for gtts-token (setup.py) ... \u001b[?25l\u001b[?25hdone\n",
            "  Created wheel for gtts-token: filename=gTTS_token-1.1.3-cp36-none-any.whl size=4097 sha256=cb2db7a10709b6aee1c35351e5b3c5a4e0f73fa686667e4f1944cb8f9c4a7e16\n",
            "  Stored in directory: /root/.cache/pip/wheels/dd/11/61/33f7e51bf545e910552b2255eead2a7cd8ef54064b46dceb34\n",
            "Successfully built gtts-token\n",
            "Installing collected packages: gtts-token, gTTS\n",
            "Successfully installed gTTS-2.1.1 gtts-token-1.1.3\n"
          ],
          "name": "stdout"
        }
      ]
    },
    {
      "cell_type": "code",
      "metadata": {
        "id": "qC61wlW2GXAS",
        "colab_type": "code",
        "colab": {}
      },
      "source": [
        "import nltk\n",
        "import numpy as np\n",
        "import random\n",
        "import string # to process standard python strings\n",
        "import warnings"
      ],
      "execution_count": null,
      "outputs": []
    },
    {
      "cell_type": "code",
      "metadata": {
        "id": "73NhYuTS7wUg",
        "colab_type": "code",
        "colab": {}
      },
      "source": [
        " warnings.filterwarnings('ignore')"
      ],
      "execution_count": null,
      "outputs": []
    },
    {
      "cell_type": "code",
      "metadata": {
        "id": "UjhK0b9i25Zr",
        "colab_type": "code",
        "colab": {
          "base_uri": "https://localhost:8080/",
          "height": 85
        },
        "outputId": "d0fad90c-a07d-45d5-c491-41332d3e734d"
      },
      "source": [
        "f=open('chatbot.txt','r',errors = 'ignore')\n",
        "raw=f.read()\n",
        "raw=raw.lower()# converts to lowercase\n",
        "nltk.download('punkt') # first-time use only\n",
        "nltk.download('wordnet') # first-time use only\n",
        "sent_tokens = nltk.sent_tokenize(raw)# converts to list of sentences \n",
        "word_tokens = nltk.word_tokenize(raw)# converts to list of words"
      ],
      "execution_count": null,
      "outputs": [
        {
          "output_type": "stream",
          "text": [
            "[nltk_data] Downloading package punkt to /root/nltk_data...\n",
            "[nltk_data]   Unzipping tokenizers/punkt.zip.\n",
            "[nltk_data] Downloading package wordnet to /root/nltk_data...\n",
            "[nltk_data]   Unzipping corpora/wordnet.zip.\n"
          ],
          "name": "stdout"
        }
      ]
    },
    {
      "cell_type": "code",
      "metadata": {
        "id": "DjgAMOaD3Ajh",
        "colab_type": "code",
        "colab": {
          "base_uri": "https://localhost:8080/",
          "height": 34
        },
        "outputId": "2b80fd65-3a4d-48d2-ef6a-b1d28ffec680"
      },
      "source": [
        "sent_tokens[:2]\n",
        "['a chatbot (also known as a talkbot, chatterbot, bot, im bot, interactive agent, or artificial conversational entity) is a computer program or an artificial intelligence which conducts a conversation via auditory or textual methods.',\n",
        " 'such programs are often designed to convincingly simulate how a human would behave as a conversational partner, thereby passing the turing test.']\n",
        "word_tokens[:2]\n",
        "['a', 'chatbot', '(', 'also', 'known']"
      ],
      "execution_count": null,
      "outputs": [
        {
          "output_type": "execute_result",
          "data": {
            "text/plain": [
              "['a', 'chatbot', '(', 'also', 'known']"
            ]
          },
          "metadata": {
            "tags": []
          },
          "execution_count": 14
        }
      ]
    },
    {
      "cell_type": "code",
      "metadata": {
        "id": "fBFs_mON3H7l",
        "colab_type": "code",
        "colab": {}
      },
      "source": [
        "lemmer = nltk.stem.WordNetLemmatizer()\n",
        "#WordNet is a semantically-oriented dictionary of English included in NLTK.\n",
        "def LemTokens(tokens):\n",
        "    return [lemmer.lemmatize(token) for token in tokens]\n",
        "remove_punct_dict = dict((ord(punct), None) for punct in string.punctuation)\n",
        "def LemNormalize(text):\n",
        "    return LemTokens(nltk.word_tokenize(text.lower().translate(remove_punct_dict)))"
      ],
      "execution_count": null,
      "outputs": []
    },
    {
      "cell_type": "code",
      "metadata": {
        "id": "hredt8AF3RnH",
        "colab_type": "code",
        "colab": {}
      },
      "source": [
        "GREETING_INPUTS = (\"hello\", \"hi\", \"greetings\", \"sup\", \"what's up\",)\n",
        "GREETING_RESPONSES = [\"hi\", \"hey\", \"*nods*\", \"hello\", \"I am glad! You are talking to me\"]\n",
        "def greeting(sentence):\n",
        " \n",
        "    for word in sentence.split():\n",
        "        if word.lower() in GREETING_INPUTS:\n",
        "            return random.choice(GREETING_RESPONSES)"
      ],
      "execution_count": null,
      "outputs": []
    },
    {
      "cell_type": "code",
      "metadata": {
        "id": "esZDrRK43X-A",
        "colab_type": "code",
        "colab": {}
      },
      "source": [
        "from sklearn.feature_extraction.text import TfidfVectorizer"
      ],
      "execution_count": null,
      "outputs": []
    },
    {
      "cell_type": "code",
      "metadata": {
        "id": "IAZA5hL24sEO",
        "colab_type": "code",
        "colab": {}
      },
      "source": [
        "from sklearn.metrics.pairwise import cosine_similarity"
      ],
      "execution_count": null,
      "outputs": []
    },
    {
      "cell_type": "code",
      "metadata": {
        "id": "ysAG1Bbs4zd9",
        "colab_type": "code",
        "colab": {}
      },
      "source": [
        "def response(user_response):\n",
        "    robo_response=''\n",
        "    sent_tokens.append(user_response)\n",
        "    TfidfVec = TfidfVectorizer(tokenizer=LemNormalize, stop_words='english')\n",
        "    tfidf = TfidfVec.fit_transform(sent_tokens)\n",
        "    vals = cosine_similarity(tfidf[-1], tfidf)\n",
        "    idx=vals.argsort()[0][-2]\n",
        "    flat = vals.flatten()\n",
        "    flat.sort()\n",
        "    req_tfidf = flat[-2]\n",
        "    if(req_tfidf==0):\n",
        "        robo_response=robo_response+\"I am sorry! I don't understand you\"\n",
        "        return robo_response\n",
        "    else:\n",
        "        robo_response = robo_response+sent_tokens[idx]\n",
        "        return robo_response"
      ],
      "execution_count": null,
      "outputs": []
    },
    {
      "cell_type": "code",
      "metadata": {
        "id": "AAidLRwYiLdb",
        "colab_type": "code",
        "colab": {}
      },
      "source": [
        "from gtts import gTTS\n",
        "from IPython.display import Audio\n",
        "tts = gTTS('I m viki i m at your service')\n",
        "tts.save('1.wav')\n",
        "\n",
        "sound_file = '1.wav'\n",
        "def voiceresponse():\n",
        " return Audio(sound_file, autoplay=True)"
      ],
      "execution_count": 30,
      "outputs": []
    },
    {
      "cell_type": "code",
      "metadata": {
        "id": "mX2Wz3K71okI",
        "colab_type": "code",
        "colab": {
          "base_uri": "https://localhost:8080/",
          "height": 75
        },
        "outputId": "f6f04763-7a8a-4153-f0a1-d2f9f097940e"
      },
      "source": [
        "voiceresponse()"
      ],
      "execution_count": 31,
      "outputs": [
        {
          "output_type": "execute_result",
          "data": {
            "text/html": [
              "\n",
              "                <audio controls=\"controls\" autoplay=\"autoplay\">\n",
              "                    <source src=\"data:audio/x-wav;base64,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\" type=\"audio/x-wav\" />\n",
              "                    Your browser does not support the audio element.\n",
              "                </audio>\n",
              "              "
            ],
            "text/plain": [
              "<IPython.lib.display.Audio object>"
            ]
          },
          "metadata": {
            "tags": []
          },
          "execution_count": 31
        }
      ]
    },
    {
      "cell_type": "code",
      "metadata": {
        "id": "Bpo40IAHO8Rx",
        "colab_type": "code",
        "colab": {}
      },
      "source": [
        "import sys \n",
        "from termcolor import colored, cprint"
      ],
      "execution_count": 33,
      "outputs": []
    },
    {
      "cell_type": "code",
      "metadata": {
        "id": "8nLake9X41Xh",
        "colab_type": "code",
        "colab": {
          "base_uri": "https://localhost:8080/",
          "height": 85
        },
        "outputId": "f28bb887-5ec9-46e7-ad85-95581d5dc326"
      },
      "source": [
        "flag=True\n",
        "text = colored(\"Vicky: My name is vicky. I will answer your queries about Medicine\", 'magenta', attrs=['reverse', 'blink']) \n",
        "print(text) \n",
        "print(\"press t to exit\")\n",
        "while(flag==True):\n",
        "    user_response = input()\n",
        "    user_response=user_response.lower()\n",
        "    if(user_response!='bye'):\n",
        "        if(user_response=='t' ):\n",
        "            flag=False\n",
        "            text = colored(\"Vicky: You are welcome..\", 'green', attrs=['reverse', 'blink'])\n",
        "            print(text)\n",
        "        else:\n",
        "            if(greeting(user_response)!=None):\n",
        "                text = colored(\"Vicky: \", 'yellow', attrs=['reverse', 'blink'])\n",
        "                texte = colored(greeting(user_response), 'magenta', attrs=['reverse', 'blink'])\n",
        "                print(text+texte)\n",
        "            else:\n",
        "                text = colored(\"Vicky: \", 'yellow', attrs=['reverse', 'blink'])\n",
        "                print(text,end=\"\")\n",
        "                texte = response(user_response)\n",
        "                text = colored(texte, 'cyan', attrs=['reverse', 'blink'])\n",
        "                print(text)\n",
        "                sent_tokens.remove(user_response)\n",
        "    else:\n",
        "        flag=False\n",
        "        text = colored(\"Vicky: Bye! take care..\", 'green', attrs=['reverse', 'blink'])\n",
        "        print(text)"
      ],
      "execution_count": 35,
      "outputs": [
        {
          "output_type": "stream",
          "text": [
            "\u001b[5m\u001b[7m\u001b[35mVicky: My name is vicky. I will answer your queries about Medicine. If you want to exit, type Bye!\u001b[0m\n",
            "press t to exit\n",
            "t\n",
            "\u001b[5m\u001b[7m\u001b[32mVicky: You are welcome..\u001b[0m\n"
          ],
          "name": "stdout"
        }
      ]
    }
  ]
}